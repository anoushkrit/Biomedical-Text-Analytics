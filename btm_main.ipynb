{
  "nbformat": 4,
  "nbformat_minor": 0,
  "metadata": {
    "colab": {
      "name": "btm_main.ipynb",
      "version": "0.3.2",
      "provenance": [],
      "collapsed_sections": [],
      "include_colab_link": true
    },
    "kernelspec": {
      "name": "python3",
      "display_name": "Python 3"
    }
  },
  "cells": [
    {
      "cell_type": "markdown",
      "metadata": {
        "id": "view-in-github",
        "colab_type": "text"
      },
      "source": [
        "<a href=\"https://colab.research.google.com/github/anoushkrit/Biomedical-Text-Analytics/blob/master/btm_main.ipynb\" target=\"_parent\"><img src=\"https://colab.research.google.com/assets/colab-badge.svg\" alt=\"Open In Colab\"/></a>"
      ]
    },
    {
      "metadata": {
        "id": "ByYO0B5RFrt6",
        "colab_type": "text"
      },
      "cell_type": "markdown",
      "source": [
        "# Biomedical Text Analytics\n",
        "This code is for the implementation of Topic Modeling Algorithms for various use cases in Healthcare domain. This enables **Teresa** in analysing huge amount of texts in various databases available publicly. Some of the Databases which are being used are listed in **3.1** of the Report. i.e. PubMed, PMC, MeSH etc.\n"
      ]
    },
    {
      "metadata": {
        "id": "5c__166kGdb1",
        "colab_type": "text"
      },
      "cell_type": "markdown",
      "source": [
        "## Importing  Libraries\n"
      ]
    },
    {
      "metadata": {
        "id": "aSUW1P0G4tpb",
        "colab_type": "code",
        "colab": {}
      },
      "cell_type": "code",
      "source": [
        "\"\"\" Created on 4 April 2019,\n",
        "Modified on 26 April 2019\n",
        "\n",
        "@Author: Anoushkrit Goel \n",
        "\"\"\"\n",
        "!pip install sys\n",
        "import sys\n",
        "!pip install re\n",
        "import re\n",
        "import numpy as np\n",
        "\n",
        "!pip install pprint \n",
        "from pprint import pprint\n",
        "\n",
        "# Gensim\n",
        "!pip install gensim \n",
        "import gensim\n",
        "import gensim.corpora as corpora \n",
        "from gensim.utils import simple_preprocess\n",
        "\n",
        "from gensim.models import CoherenceModel # Coherence Model may not be used\n",
        "\n",
        "# spacy for Lemmatization\n",
        "!pip install spacy\n",
        "!python -m download spacy en\n",
        "import spacy\n",
        "\n",
        "#Plotting Tools\n",
        "!pip install pyldavis\n",
        "import pyldavis \n",
        "import pyldavis.gensim #crucial step \n",
        "import matplotlib.pyplot as plt\n",
        "%matplotlib inline\n",
        "\n",
        "# Network Visualisation \n",
        "!pip install networkx\n",
        "import networkx as nx\n",
        "\n",
        "#Quality Analysis and Testing Purposes\n",
        "!pip install logging \n",
        "import logging\n",
        "logging.basicConfig(format='%(asctime)s : %(levelname)s : %(message)s', level=logging.ERROR)\n",
        "\n",
        "!pip install warnings\n",
        "import warnings\n",
        "warnings.filterwarnings(\"ignore\", category=DeprecationWarning)\n",
        "\n",
        "\n"
      ],
      "execution_count": 0,
      "outputs": []
    },
    {
      "metadata": {
        "id": "tPHhIvipFoy8",
        "colab_type": "code",
        "colab": {}
      },
      "cell_type": "code",
      "source": [
        ""
      ],
      "execution_count": 0,
      "outputs": []
    }
  ]
}